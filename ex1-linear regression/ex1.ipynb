{
 "cells": [
  {
   "cell_type": "markdown",
   "metadata": {},
   "source": [
    "# 机器学习 - 线性回归\n",
    "\n",
    "ex1data1.txt文件中第一列为一个城市的人口，第二列是该城市一辆快餐车的利润"
   ]
  },
  {
   "cell_type": "code",
   "execution_count": 97,
   "metadata": {},
   "outputs": [],
   "source": [
    "import matplotlib.pyplot as plt\n",
    "import numpy as np\n",
    "import pandas as pd\n"
   ]
  },
  {
   "cell_type": "code",
   "execution_count": 98,
   "metadata": {},
   "outputs": [
    {
     "data": {
      "image/png": "[encoded data removed]",
      "text/plain": [
       "<Figure size 432x288 with 1 Axes>"
      ]
     },
     "metadata": {
      "needs_background": "light"
     },
     "output_type": "display_data"
    }
   ],
   "source": [
    "# Plotting the data\n",
    "x = []\n",
    "y = []\n",
    "with open('ex1data1.txt', 'r', encoding='utf-8') as data1:\n",
    "    for i in data1:\n",
    "        x.append([float(i.split(',')[0])])\n",
    "        y.append([float(i.split(',')[1])])\n",
    "x = np.array(x)\n",
    "y = np.array(y)\n",
    "x_label = 'Population of City in 10,000s'\n",
    "y_label = 'Profit in $10,000s'\n",
    "plt.scatter(x, y)\n",
    "plt.xlabel(x_label)\n",
    "plt.ylabel(y_label)\n",
    "plt.title('en1data1')\n",
    "plt.show()"
   ]
  },
  {
   "cell_type": "code",
   "execution_count": 99,
   "metadata": {},
   "outputs": [
    {
     "data": {
      "text/plain": [
       "32.072733877455676"
      ]
     },
     "execution_count": 99,
     "metadata": {},
     "output_type": "execute_result"
    }
   ],
   "source": [
    "# Gradient Descent\n",
    "def computeCost(X, y, theta):\n",
    "    temp = np.power((X.dot(theta)-y), 2)\n",
    "    return np.sum(temp)/(2*len(y))\n",
    "\n",
    "\n",
    "iterations = 1500   # 迭代次数\n",
    "alpha = 0.01    # 学习率\n",
    "X = np.column_stack((np.ones((len(x), 1)), x))    # 在x前添加一列x_0，值全为1\n",
    "theta = np.zeros((2, 1))  # 初始化theta\n",
    "computeCost(X, y, theta)"
   ]
  }
 ],
 "metadata": {
  "kernelspec": {
   "display_name": "Python 3.9.1 64-bit",
   "language": "python",
   "name": "python3"
  },
  "language_info": {
   "codemirror_mode": {
    "name": "ipython",
    "version": 3
   },
   "file_extension": ".py",
   "mimetype": "text/x-python",
   "name": "python",
   "nbconvert_exporter": "python",
   "pygments_lexer": "ipython3",
   "version": "3.9.1"
  },
  "orig_nbformat": 4,
  "vscode": {
   "interpreter": {
    "hash": "865d8b2eb28e274047ba64063dfb6a2aabf0dfec4905d304d7a76618dae6fdd4"
   }
  }
 },
 "nbformat": 4,
 "nbformat_minor": 2
}
